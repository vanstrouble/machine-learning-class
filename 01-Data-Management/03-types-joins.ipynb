{
 "cells": [
  {
   "cell_type": "markdown",
   "metadata": {},
   "source": [
    "# Joins\n",
    "Joins are operations that allow combining data from two or more tables based on a specific condition. This condition usually involves a relationship between columns of the tables being joined. Joins are essential for performing complex queries involving multiple tables."
   ]
  },
  {
   "cell_type": "markdown",
   "metadata": {},
   "source": [
    "<p align=\"center\">\n",
    "  <img src=\"../resources/img-joins/img-06.png\" alt=\"Cross Join\" style=\"width: 550px; height: auto;\">\n",
    "</p>"
   ]
  },
  {
   "cell_type": "markdown",
   "metadata": {},
   "source": [
    "## Inner Join\n",
    "\n",
    "- This type of Join returns only the rows that have at least one match in both tables.\n",
    "- When an Inner Join is performed, the specified condition is applied to both tables, and only the rows that meet that condition are included in the result.\n",
    "- For example, if you are joining an employees table with a departments table using the department ID as a key, an Inner Join will only return the rows where employees are assigned to an existing department."
   ]
  },
  {
   "cell_type": "markdown",
   "metadata": {},
   "source": [
    "<p align=\"center\">\n",
    "  <img src=\"../resources/img-joins/img-01.png\" alt=\"Cross Join\" style=\"width: 300px; height: auto;\">\n",
    "</p>"
   ]
  },
  {
   "cell_type": "markdown",
   "metadata": {},
   "source": [
    "## Left Join (Left Outer Join)\n",
    "\n",
    "- A Left Join returns all the rows from the left table, along with the corresponding rows from the right table that meet the join condition, if any.\n",
    "- If there are no matches in the right table for a row in the left table, NULL will be included in the columns from the right table in the result.\n",
    "- This type of Join is useful when you want to include all the rows from the left table, regardless of whether they have matches in the right table."
   ]
  },
  {
   "cell_type": "markdown",
   "metadata": {},
   "source": [
    "<p align=\"center\">\n",
    "  <img src=\"../resources/img-joins/img-02.png\" alt=\"Cross Join\" style=\"width: 300px; height: auto;\">\n",
    "</p>"
   ]
  },
  {
   "cell_type": "markdown",
   "metadata": {},
   "source": [
    "## Right Join (Right Outer Join)\n",
    "\n",
    "- The Right Join is essentially the opposite of the Left Join.\n",
    "- It returns all the rows from the right table and the corresponding rows from the left table that meet the join condition.\n",
    "- If there are no matches in the left table for a row in the right table, NULL will be included in the columns from the left table in the result.\n",
    "- Although less common than the Left Join, the Right Join can be useful when you want to include all the rows from the right table, regardless of whether they have matches in the left table."
   ]
  },
  {
   "cell_type": "markdown",
   "metadata": {},
   "source": [
    "<p align=\"center\">\n",
    "  <img src=\"../resources/img-joins/img-03.png\" alt=\"Cross Join\" style=\"width: 300px; height: auto;\">\n",
    "</p>"
   ]
  },
  {
   "cell_type": "markdown",
   "metadata": {},
   "source": [
    "## Full Join (Full Outer Join)\n",
    "\n",
    "- Full Join returns all the rows from both tables, including rows where there are no matches in the other table.\n",
    "- If there are no matches in the left table for a row in the right table, NULL will be included in the columns from the left table in the result, and vice versa.\n",
    "- It is useful when you want to get all the rows from both tables, even those that do not have matches in the other table."
   ]
  },
  {
   "cell_type": "markdown",
   "metadata": {},
   "source": [
    "<p align=\"center\">\n",
    "  <img src=\"../resources/img-joins/img-04.png\" alt=\"Cross Join\" style=\"width: 300px; height: auto;\">\n",
    "</p>"
   ]
  },
  {
   "cell_type": "markdown",
   "metadata": {},
   "source": [
    "## Cross Join\n",
    "\n",
    "- A Cross Join combines each row of the first table with every row of the second table, generating a Cartesian product.\n",
    "- There is no explicit join condition in a Cross Join.\n",
    "- The result will contain the total number of rows from the first table multiplied by the total number of rows from the second table.\n",
    "- Cross Joins can be useful in specific situations, such as when you need to combine all possible combinations of two datasets. However, they can generate very large results and should be used with caution."
   ]
  },
  {
   "cell_type": "markdown",
   "metadata": {},
   "source": [
    "<p align=\"center\">\n",
    "  <img src=\"../resources/img-joins/img-05.png\" alt=\"Cross Join\" style=\"width: 500px; height: auto;\">\n",
    "</p>"
   ]
  },
  {
   "cell_type": "markdown",
   "metadata": {},
   "source": [
    "## References\n",
    "[Chapter 17 Joining (Merging) Data | R for HR: An Introduction to Human Resource Analytics Using R](https://rforhr.com/join.html)"
   ]
  },
  {
   "cell_type": "markdown",
   "metadata": {},
   "source": [
    "---"
   ]
  },
  {
   "cell_type": "markdown",
   "metadata": {},
   "source": [
    "## Some merge functions in Pandas\n",
    "The join(), concat(), and merge() functions in Pandas are powerful tools for combining data from different DataFrames, but they differ in their approach and how they are used:\n",
    "\n",
    "1. **merge():**\n",
    "   - The merge() function is specifically used to combine DataFrames using common columns as merge keys.\n",
    "   - It allows for different types of Joins, such as Inner Join, Left Join, Right Join, and Full Join.\n",
    "   - It is more flexible and powerful when you need to combine DataFrames based on more complex conditions or multiple merge columns.\n",
    "2. **join():**\n",
    "   - The join() method is used to combine DataFrames based on their indices (whether simple or hierarchical).\n",
    "   - It's useful when you want to combine DataFrames that share indices, making the operation simpler and more straightforward.\n",
    "   - By default, it performs a Left Join using the index of the calling DataFrame (left), with the option to specify other types of Joins using the how parameter.\n",
    "3. **concat():**\n",
    "   - The concat() function is used to concatenate DataFrames along a specific axis (whether along rows or columns).\n",
    "   - It doesn't perform a Join based on specific columns, but simply concatenates the DataFrames along the specified axis.\n",
    "   - It's useful when you need to combine DataFrames that have the same columns or indices, but don't necessarily have common columns for a Join."
   ]
  },
  {
   "cell_type": "markdown",
   "metadata": {},
   "source": [
    "<div class=\"alert alert-block alert-info\">\n",
    "<b>💡:</b> The main difference between merge(), join(), and concat() lies in their approach to combining DataFrames. merge() is more suitable for combining DataFrames based on specific columns, join() for combining DataFrames based on indices, and concat() for concatenating DataFrames along an axis without performing a Join based on specific columns.\n",
    "</div>"
   ]
  }
 ],
 "metadata": {
  "language_info": {
   "name": "python"
  }
 },
 "nbformat": 4,
 "nbformat_minor": 2
}
