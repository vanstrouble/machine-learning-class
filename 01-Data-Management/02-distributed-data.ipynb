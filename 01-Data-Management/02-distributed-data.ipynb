{
 "cells": [
  {
   "cell_type": "markdown",
   "metadata": {},
   "source": [
    "## Distributed data"
   ]
  },
  {
   "cell_type": "markdown",
   "metadata": {},
   "source": [
    "1. Create initial dataframe to store values\n",
    "2. Make a loop to go through each and every file.\n",
    "    - **Important**: Maintain consistency with file names.\n",
    "    - Import the files one by one.\n",
    "    - Each one must be appended to the end of the first previously imported file.\n",
    "3. Repeat the loop until the last file is imported."
   ]
  },
  {
   "cell_type": "code",
   "execution_count": 1,
   "metadata": {},
   "outputs": [],
   "source": [
    "import os\n",
    "import pandas as pd"
   ]
  },
  {
   "cell_type": "code",
   "execution_count": 5,
   "metadata": {},
   "outputs": [
    {
     "name": "stdout",
     "output_type": "stream",
     "text": [
      "Files number in folder: 332 elements\n",
      "Dataframe shape: (772087, 4)\n"
     ]
    }
   ],
   "source": [
    "# Determine the folder that contains the distributed data\n",
    "filepath = \"../datasets/distributed-data/\"\n",
    "\n",
    "# Count the total number of files in the folder\n",
    "files = os.listdir(filepath)\n",
    "n_files = len(files)\n",
    "print(f\"Files number in folder: {n_files} elements\")\n",
    "\n",
    "# Create dataframe to store values\n",
    "data = pd.DataFrame()\n",
    "\n",
    "# Load every file in the folder\n",
    "for i in range(1, n_files+1):\n",
    "    filename = str(i).zfill(3)\n",
    "    file = filepath + filename + \".csv\"\n",
    "    temp_file = pd.read_csv(file)\n",
    "    data = pd.concat([data, temp_file], axis=0)\n",
    "\n",
    "# Verify shape dataframe\n",
    "print(f\"Dataframe shape: {data.shape}\")"
   ]
  },
  {
   "cell_type": "code",
   "execution_count": 6,
   "metadata": {},
   "outputs": [
    {
     "name": "stdout",
     "output_type": "stream",
     "text": [
      "First file values: \n",
      "         Date  sulfate  nitrate  ID\n",
      "0  2003-01-01      NaN      NaN   1\n",
      "1  2003-01-02      NaN      NaN   1\n",
      "2  2003-01-03      NaN      NaN   1\n",
      "3  2003-01-04      NaN      NaN   1\n",
      "4  2003-01-05      NaN      NaN   1\n",
      "\n",
      "Last file values: \n",
      "           Date  sulfate  nitrate   ID\n",
      "726  2004-12-27      NaN      NaN  332\n",
      "727  2004-12-28      NaN      NaN  332\n",
      "728  2004-12-29      NaN      NaN  332\n",
      "729  2004-12-30      NaN      NaN  332\n",
      "730  2004-12-31      NaN      NaN  332\n"
     ]
    }
   ],
   "source": [
    "# Verify the fist values from first file\n",
    "print(f\"First file values: \\n{data.head()}\")\n",
    "# Verify if the last one contains the correct last values\n",
    "print(f\"\\nLast file values: \\n{data.tail()}\")"
   ]
  }
 ],
 "metadata": {
  "kernelspec": {
   "display_name": "ml-ibm",
   "language": "python",
   "name": "python3"
  },
  "language_info": {
   "codemirror_mode": {
    "name": "ipython",
    "version": 3
   },
   "file_extension": ".py",
   "mimetype": "text/x-python",
   "name": "python",
   "nbconvert_exporter": "python",
   "pygments_lexer": "ipython3",
   "version": "3.11.5"
  }
 },
 "nbformat": 4,
 "nbformat_minor": 2
}
